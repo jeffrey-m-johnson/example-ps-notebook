{
 "cells": [
  {
   "cell_type": "markdown",
   "metadata": {},
   "source": [
    "# Powershell example notebook\n",
    "----\n",
    "# Setup:\n",
    "## Install Extension\n",
    "- Navigate to the \"Extensions\" pane and search for and install the Jupyter extension from Microsoft\n",
    "\n",
    "<img src=\"resources/extensions_install.png\" style=\"width:500px;\"/>\n",
    "\n",
    "## Create notebook\n",
    "- Open command palette (`CTRL+SHIFT+P`)\n",
    "- Use command `Jupyter: Create new Jupyter notebook`\n",
    "\n",
    "<img src=\"resources/create_notebook.png\" style=\"width:500px;\"/>"
   ]
  },
  {
   "cell_type": "markdown",
   "metadata": {},
   "source": [
    "----\n",
    "# Markdown Cells\n",
    "\n",
    "Jupyter notebooks allow you to combine source-code, interactive execution, and markdown documentation all in one file.\n",
    "For this demo, start by creating a Markdown \"Cell\" by clicking `+ Markdown` in the top left of the active notebook.\n",
    "\n",
    "<img src=\"resources/new_markdown_cell.png\" style=\"width:500px;\"/>\n",
    "\n",
    "### Markdown:\n",
    "Markdown is a markup language. HTML and XML are also markup languages. They are basically a structured system for creating a document.\n",
    "Each markup language has its own advantages. Markdown's key selling point is that its source-code is very human readable. HTML and XML are good markup languages, but unless you're a programmer they suck to read and comprehend what is going on without rendering the document.\n",
    "\n",
    "Markdown includes basic text formatting features like you'd find in HTML. Here is a useful [Markdown cheatsheet]('https://www.markdownguide.org/cheat-sheet/').\n",
    "\n",
    "You'll often find Markdown in-use for technical documentation. Nearly all github repositories include a README.md at the root on the project, which is a markdown file (file-extension: \".md\") that github will automatically render.\n"
   ]
  },
  {
   "cell_type": "markdown",
   "metadata": {},
   "source": [
    "----\n",
    "# Code Cells\n",
    "\n",
    "Any Jupyter notebook allows you to add a code cell.\n",
    "You can change the programming language that cell will use in the bottom right of the cell:\n",
    "\n",
    "<img src=\"resources/code_cells.png\" style=\"width:750px;\"/>\n"
   ]
  },
  {
   "cell_type": "code",
   "execution_count": null,
   "metadata": {
    "dotnet_interactive": {
     "language": "pwsh"
    }
   },
   "outputs": [
    {
     "name": "stdout",
     "output_type": "stream",
     "text": [
      "Hello, there!\n"
     ]
    }
   ],
   "source": [
    "Write-Host \"Hello, there!\""
   ]
  }
 ],
 "metadata": {
  "kernelspec": {
   "display_name": ".NET (C#)",
   "language": "C#",
   "name": ".net-csharp"
  },
  "language_info": {
   "file_extension": ".cs",
   "mimetype": "text/x-csharp",
   "name": "C#",
   "pygments_lexer": "csharp",
   "version": "9.0"
  },
  "orig_nbformat": 4
 },
 "nbformat": 4,
 "nbformat_minor": 2
}
